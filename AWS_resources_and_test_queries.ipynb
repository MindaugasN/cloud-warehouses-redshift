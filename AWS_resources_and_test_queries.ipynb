{
 "cells": [
  {
   "cell_type": "code",
   "execution_count": null,
   "metadata": {},
   "outputs": [],
   "source": [
    "import configparser\n",
    "import boto3\n",
    "import json"
   ]
  },
  {
   "cell_type": "code",
   "execution_count": null,
   "metadata": {},
   "outputs": [],
   "source": [
    "# Read local config file\n",
    "config = configparser.ConfigParser()\n",
    "\n",
    "def read_all_keys(path_to_config):\n",
    "    config.read_file(open(path_to_config))\n",
    "    for section in config.sections():\n",
    "        for key in config[section]:\n",
    "            print(f'{key}: {config[section][key]}')\n",
    "            \n",
    "def write_key(path_to_config, section, key, value):\n",
    "    config[section][key] = value\n",
    "    with open(path_to_config, 'w') as configfile:\n",
    "        config.write(configfile)\n",
    "        \n",
    "read_all_keys('dwh.cfg')"
   ]
  },
  {
   "cell_type": "markdown",
   "metadata": {},
   "source": [
    "# Create IAM role for Redshift"
   ]
  },
  {
   "cell_type": "code",
   "execution_count": null,
   "metadata": {},
   "outputs": [],
   "source": [
    "iam = boto3.client('iam', aws_access_key_id=config.get('KEYS', 'access_key'), \n",
    "                   aws_secret_access_key=config.get('KEYS', 'secrect_access_key'),\n",
    "                   region_name='us-west-2')"
   ]
  },
  {
   "cell_type": "code",
   "execution_count": null,
   "metadata": {},
   "outputs": [],
   "source": [
    "def create_redshift_iam_role(role_name, description):\n",
    "    \n",
    "    # Create role\n",
    "    dwh_role = iam.create_role(\n",
    "        Path='/',\n",
    "        RoleName=role_name,\n",
    "        Description=description,\n",
    "        AssumeRolePolicyDocument=json.dumps(\n",
    "        {'Statement': [{'Action': 'sts:AssumeRole',\n",
    "        'Effect': 'Allow',\n",
    "        'Principal': {'Service': 'redshift.amazonaws.com'}}],\n",
    "        'Version': '2012-10-17'})\n",
    "    )\n",
    "    \n",
    "    # Attach policy\n",
    "    iam.attach_role_policy(\n",
    "        RoleName=role_name,\n",
    "        PolicyArn=\"arn:aws:iam::aws:policy/AmazonS3ReadOnlyAccess\"\n",
    "    )['ResponseMetadata']['HTTPStatusCode']\n",
    "    \n",
    "    # Get role arn\n",
    "    role_arn = iam.get_role(RoleName=role_name)['Role']['Arn']\n",
    "    return role_arn"
   ]
  },
  {
   "cell_type": "code",
   "execution_count": null,
   "metadata": {},
   "outputs": [],
   "source": [
    "name = 'my-redshift-udacity-role'\n",
    "desc = 'Allows Redshift clusters to call AWS services on your behalf.'\n",
    "\n",
    "arn = create_redshift_iam_role(name, desc)\n",
    "arn"
   ]
  },
  {
   "cell_type": "markdown",
   "metadata": {},
   "source": [
    "### Update config file"
   ]
  },
  {
   "cell_type": "code",
   "execution_count": null,
   "metadata": {},
   "outputs": [],
   "source": [
    "write_key('dwh.cfg', 'IAM_ROLE', 'arn', arn)"
   ]
  },
  {
   "cell_type": "markdown",
   "metadata": {},
   "source": [
    "# Create Redshift Cluster"
   ]
  },
  {
   "cell_type": "code",
   "execution_count": null,
   "metadata": {},
   "outputs": [],
   "source": [
    "redshift = boto3.client('redshift', aws_access_key_id=config.get('KEYS', 'access_key'), \n",
    "                        aws_secret_access_key=config.get('KEYS', 'secrect_access_key'),\n",
    "                        region_name='us-west-2')"
   ]
  },
  {
   "cell_type": "code",
   "execution_count": null,
   "metadata": {},
   "outputs": [],
   "source": [
    "cluster_type = 'multi-node'\n",
    "node_type = 'dc2.large'\n",
    "num_nodes = 4\n",
    "cluster_identifier = 'my-redshift-udacity-cluster-1'\n",
    "\n",
    "db = config.get('CLUSTER', 'db_name')\n",
    "db_user = config.get('CLUSTER', 'db_user')\n",
    "db_password = config.get('CLUSTER', 'db_password')\n",
    "redshift_iam_role = config.get('IAM_ROLE', 'arn')\n",
    "\n",
    "redshift.create_cluster(\n",
    "    ClusterType=cluster_type,\n",
    "    NodeType=node_type,\n",
    "    NumberOfNodes=int(num_nodes),\n",
    "\n",
    "    #Identifiers & Credentials\n",
    "    DBName=db,\n",
    "    ClusterIdentifier=cluster_identifier,\n",
    "    MasterUsername=db_user,\n",
    "    MasterUserPassword=db_password,\n",
    "\n",
    "    #Roles (for s3 access)\n",
    "    IamRoles=[redshift_iam_role]  \n",
    ")"
   ]
  },
  {
   "cell_type": "code",
   "execution_count": null,
   "metadata": {},
   "outputs": [],
   "source": [
    "def describe_redshift_cluster(props):\n",
    "    keysToShow = [\"ClusterIdentifier\", \"NodeType\", \"ClusterStatus\", \"MasterUsername\", \"DBName\", \"Endpoint\", \"NumberOfNodes\", 'VpcId']\n",
    "    x = [(k, v) for k,v in props.items() if k in keysToShow]\n",
    "    return x"
   ]
  },
  {
   "cell_type": "code",
   "execution_count": null,
   "metadata": {},
   "outputs": [],
   "source": [
    "props = redshift.describe_clusters(ClusterIdentifier=cluster_identifier)['Clusters'][0]\n",
    "describe_redshift_cluster(props)"
   ]
  },
  {
   "cell_type": "code",
   "execution_count": null,
   "metadata": {},
   "outputs": [],
   "source": [
    "host = props['Endpoint']['Address']\n",
    "host"
   ]
  },
  {
   "cell_type": "markdown",
   "metadata": {},
   "source": [
    "### Update config file"
   ]
  },
  {
   "cell_type": "code",
   "execution_count": null,
   "metadata": {},
   "outputs": [],
   "source": [
    "write_key('dwh.cfg', 'CLUSTER', 'host', host)"
   ]
  },
  {
   "cell_type": "markdown",
   "metadata": {},
   "source": [
    "# Connect to Cluster and Run queries"
   ]
  },
  {
   "cell_type": "code",
   "execution_count": null,
   "metadata": {},
   "outputs": [],
   "source": [
    "%load_ext sql"
   ]
  },
  {
   "cell_type": "code",
   "execution_count": null,
   "metadata": {},
   "outputs": [],
   "source": [
    "db = config.get('CLUSTER', 'db_name')\n",
    "db_user = config.get('CLUSTER', 'db_user')\n",
    "db_password = config.get('CLUSTER', 'db_password')\n",
    "endpoint = config.get('CLUSTER', 'host')\n",
    "port = config.get('CLUSTER', 'db_port')\n",
    "\n",
    "redshift_iam_role = config.get('IAM_ROLE', 'arn')\n",
    "\n",
    "conn_string=\"postgresql://{}:{}@{}:{}/{}\".format(db_user, db_password, endpoint, port, db)\n",
    "print(conn_string)\n",
    "%sql $conn_string"
   ]
  },
  {
   "cell_type": "code",
   "execution_count": null,
   "metadata": {},
   "outputs": [],
   "source": [
    "%%sql\n",
    "\n",
    "select count(*)\n",
    "from staging_events;"
   ]
  },
  {
   "cell_type": "code",
   "execution_count": null,
   "metadata": {},
   "outputs": [],
   "source": [
    "%%sql\n",
    "\n",
    "select count(*)\n",
    "from staging_songs;"
   ]
  },
  {
   "cell_type": "code",
   "execution_count": null,
   "metadata": {},
   "outputs": [],
   "source": [
    "%%sql\n",
    "\n",
    "select\n",
    "    a.artist_name,\n",
    "    s.title,\n",
    "    t.month,\n",
    "    count(*) as listened_count\n",
    "from songplays sp\n",
    "join artists a\n",
    "    on a.artist_id = sp.artist_id\n",
    "join songs s\n",
    "    on s.song_id = sp.song_id\n",
    "join times t\n",
    "    on t.start_time = sp.start_time\n",
    "group by\n",
    "    a.artist_name,\n",
    "    s.title,\n",
    "    t.month\n",
    "order by listened_count desc\n",
    "limit 10;"
   ]
  },
  {
   "cell_type": "markdown",
   "metadata": {},
   "source": [
    "# Delete Redshift Cluster"
   ]
  },
  {
   "cell_type": "code",
   "execution_count": null,
   "metadata": {},
   "outputs": [],
   "source": [
    "redshift.delete_cluster(ClusterIdentifier=cluster_identifier, SkipFinalClusterSnapshot=True)"
   ]
  }
 ],
 "metadata": {
  "kernelspec": {
   "display_name": "Python 3",
   "language": "python",
   "name": "python3"
  },
  "language_info": {
   "codemirror_mode": {
    "name": "ipython",
    "version": 3
   },
   "file_extension": ".py",
   "mimetype": "text/x-python",
   "name": "python",
   "nbconvert_exporter": "python",
   "pygments_lexer": "ipython3",
   "version": "3.7.2"
  }
 },
 "nbformat": 4,
 "nbformat_minor": 2
}
